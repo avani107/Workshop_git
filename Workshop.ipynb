{
 "cells": [
  {
   "cell_type": "code",
   "execution_count": 3,
   "metadata": {},
   "outputs": [
    {
     "name": "stdout",
     "output_type": "stream",
     "text": [
      "Enter your name: Avani\n",
      "Avani\n"
     ]
    }
   ],
   "source": [
    "a=input(\"Enter your name: \")\n",
    "print(a)\n"
   ]
  },
  {
   "cell_type": "code",
   "execution_count": 6,
   "metadata": {},
   "outputs": [
    {
     "name": "stdout",
     "output_type": "stream",
     "text": [
      "Enter a number3\n",
      "Odd\n",
      "value is 3\n"
     ]
    }
   ],
   "source": [
    "a=int(input('Enter a number'))\n",
    "if(a==2):\n",
    "    print('Even')\n",
    "else:\n",
    "    print('Odd')\n",
    "print('value is',a)\n",
    "    "
   ]
  },
  {
   "cell_type": "code",
   "execution_count": 5,
   "metadata": {},
   "outputs": [
    {
     "name": "stdout",
     "output_type": "stream",
     "text": [
      "Enter a number2\n",
      "false\n",
      "the type of a is <class 'str'>\n",
      "the type of b is <class 'bool'>\n"
     ]
    }
   ],
   "source": [
    "a='HI'\n",
    "b=True\n",
    "c=20\n",
    "d=None\n",
    "e=int(input('Enter a number'))\n",
    "if(e==1):\n",
    "    print('true')\n",
    "else:\n",
    "    print('false')\n",
    "print('the type of a is',type(a))\n",
    "print('the type of b is',type(b))"
   ]
  },
  {
   "cell_type": "code",
   "execution_count": 16,
   "metadata": {},
   "outputs": [
    {
     "name": "stdout",
     "output_type": "stream",
     "text": [
      "Enter a value 10\n",
      "Enter b value 5\n",
      "Enter the operator -\n",
      "Subtraction of 10 and 5 is 5\n"
     ]
    }
   ],
   "source": [
    "a=int(input('Enter a value '))\n",
    "b=int(input('Enter b value '))\n",
    "c=input('Enter the operator ')\n",
    "if c=='+':\n",
    "    print('Sum is',a+b)\n",
    "elif c=='-':\n",
    "    print(f'Subtraction of {a} and {b} is {a-b}')\n",
    "elif c=='*':\n",
    "    print('Product is',a*b)\n",
    "elif c=='/':\n",
    "    print('Result is',a/b)\n",
    "\n",
    "\n",
    "\n"
   ]
  },
  {
   "cell_type": "code",
   "execution_count": null,
   "metadata": {
    "collapsed": true
   },
   "outputs": [],
   "source": []
  }
 ],
 "metadata": {
  "kernelspec": {
   "display_name": "Python 3",
   "language": "python",
   "name": "python3"
  },
  "language_info": {
   "codemirror_mode": {
    "name": "ipython",
    "version": 3
   },
   "file_extension": ".py",
   "mimetype": "text/x-python",
   "name": "python",
   "nbconvert_exporter": "python",
   "pygments_lexer": "ipython3",
   "version": "3.6.3"
  }
 },
 "nbformat": 4,
 "nbformat_minor": 2
}
